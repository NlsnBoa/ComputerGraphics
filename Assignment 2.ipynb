{
 "cells": [
  {
   "cell_type": "markdown",
   "id": "232c9710-2cf1-4985-b8f1-729cf3c54101",
   "metadata": {},
   "source": [
    "# Assignment 2: Nelson Herrera"
   ]
  },
  {
   "cell_type": "code",
   "execution_count": 1,
   "id": "359f386e-f81b-4319-88cb-f0ed349340fd",
   "metadata": {},
   "outputs": [
    {
     "name": "stdout",
     "output_type": "stream",
     "text": [
      "pygame 2.6.0 (SDL 2.28.4, Python 3.12.2)\n",
      "Hello from the pygame community. https://www.pygame.org/contribute.html\n"
     ]
    }
   ],
   "source": [
    "import pygame\n",
    "import moderngl\n",
    "import numpy"
   ]
  },
  {
   "cell_type": "code",
   "execution_count": 2,
   "id": "dd23f6e9-e628-4107-acb1-fdae06cf19d4",
   "metadata": {},
   "outputs": [
    {
     "name": "stderr",
     "output_type": "stream",
     "text": [
      "2024-09-02 17:24:21.318 Python[8560:196480] WARNING: Secure coding is not enabled for restorable state! Enable secure coding by implementing NSApplicationDelegate.applicationSupportsSecureRestorableState: and returning YES.\n"
     ]
    }
   ],
   "source": [
    "pygame.init()\n",
    "# Set the version of OpenGL. Initialize OpenGL context using Pygame\n",
    "pygame.display.gl_set_attribute(pygame.GL_CONTEXT_PROFILE_MASK, pygame.GL_CONTEXT_PROFILE_CORE)\n",
    "pygame.display.gl_set_attribute(pygame.GL_CONTEXT_MAJOR_VERSION, 4)\n",
    "pygame.display.gl_set_attribute(pygame.GL_CONTEXT_MINOR_VERSION, 1)\n",
    "pygame.display.set_mode((800,600), pygame.OPENGL | pygame.DOUBLEBUF)\n",
    "\n",
    "# Get OpenGL context associated with the window\n",
    "gl = moderngl.get_context()\n",
    "\n"
   ]
  },
  {
   "cell_type": "markdown",
   "id": "90eaa1c7-a285-48e7-a839-7b43be817b60",
   "metadata": {},
   "source": [
    "### Create OpenGL Rendering Contex"
   ]
  },
  {
   "cell_type": "markdown",
   "id": "d11f369f-af90-44a5-81a7-2f13f062df41",
   "metadata": {},
   "source": [
    "### Setting up the rendering pipeline with OpenGL"
   ]
  },
  {
   "cell_type": "code",
   "execution_count": 3,
   "id": "670e8145-eba4-48b5-868a-78414dc6cbac",
   "metadata": {},
   "outputs": [],
   "source": [
    "postions = [ 0.0, 0.8, -0.8, -0.8, 0.8, -0.8]\n",
    "# Upload Vertex data to GPU. This is normally much harder to do in opengl\n",
    "vertexBuffer = gl.buffer(numpy.array(postions).astype(\"float32\"))"
   ]
  },
  {
   "cell_type": "markdown",
   "id": "a3a455ad-31db-4549-8481-8b5731515eb2",
   "metadata": {},
   "source": [
    "### Create a Shader Programs\n",
    "- Shaders are pieces of code taht run on your GPU. (written in GLSL)\n",
    "- We will be making two. A Vertex Shader and a Fragment Shader\n",
    "#### Vertex Shader:\n",
    "- Allows us to perform basic processing on the vertex attributes\n",
    "    - like transformations, scaling, etc.\n",
    "- Takes a single vertex as input\n",
    "#### Fragment Shader:\n",
    "- Allows us to copmute color (RGBA for each fragment)\n",
    "- Also known as *Pixel Shader*"
   ]
  },
  {
   "cell_type": "code",
   "execution_count": 4,
   "id": "ca9e587f-5c2b-42e9-a5b3-5b93cb63506c",
   "metadata": {},
   "outputs": [],
   "source": [
    "# Vertex Shader\n",
    "vertex_shader_code = '''\n",
    "\n",
    "# version 330 core\n",
    "\n",
    "layout (location = 0) in vec2 position;\n",
    "\n",
    "void main() {\n",
    "    gl_Position = vec4(position,0.0,1.0);\n",
    "}\n",
    "\n",
    "'''"
   ]
  },
  {
   "cell_type": "code",
   "execution_count": 5,
   "id": "3b97e951-e7ed-41c3-b9a8-bffe47bbba34",
   "metadata": {},
   "outputs": [],
   "source": [
    "# Fragment Shader\n",
    "fragment_shader_code = '''\n",
    "# version 330 core \n",
    "\n",
    "out vec4 outColor;\n",
    "\n",
    "void main() {\n",
    " outColor = vec4( 1.0, 1.0, 1.0, 1.0);\n",
    "}\n",
    "'''"
   ]
  },
  {
   "cell_type": "code",
   "execution_count": 6,
   "id": "386f7129-1549-44ee-b0f3-c9a4051de522",
   "metadata": {},
   "outputs": [],
   "source": [
    "# Store them in the main shader program\n",
    "shaderProgram = gl.program(\n",
    "    vertex_shader = vertex_shader_code,\n",
    "    fragment_shader = fragment_shader_code\n",
    ")"
   ]
  },
  {
   "cell_type": "markdown",
   "id": "07f288ce-91a9-401b-bfb4-5d6216178f00",
   "metadata": {},
   "source": [
    "### Configure Vertex Attributes\n",
    "- This is the process of connecting the buffer to shader program\n",
    "    - Specify how vertex attributes are stroed in the vertex buffer:\n",
    "        - Vertex buffer is just a raw array, We need to tell the shader program how to interpret that data\n",
    "- We know how our position coordinates are stored in this vertex buffer, but OpenGL doesn't know that"
   ]
  },
  {
   "cell_type": "code",
   "execution_count": 7,
   "id": "590d374d-0f81-4a58-9e0c-0dd2bb199917",
   "metadata": {},
   "outputs": [],
   "source": [
    "renderable = gl.vertex_array(shaderProgram, [(vertexBuffer, '2f', 'position')])\n",
    "\n"
   ]
  },
  {
   "cell_type": "code",
   "execution_count": null,
   "id": "264e1dc7-27ba-47c3-898e-1290c87c950a",
   "metadata": {},
   "outputs": [],
   "source": [
    "pygame.display.set_caption(\"Assignment 2: Nelson Herrera\")\n",
    "\n",
    "running = True\n",
    "\n",
    "while running:\n",
    "    for event in pygame.event.get():\n",
    "        if event.type == pygame.QUIT or (event.type == pygame.KEYDOWN and event.key == 27):\n",
    "            running = False\n",
    "    gl.clear(0.2,0.2,0.2)\n",
    "    renderable.render()\n",
    "    pygame.display.flip()\n",
    "\n",
    "pygame.quit()  # quit after the loop ends\n",
    "quit() # Needed this to quit the process on my Mac without jupyter notebook freezing"
   ]
  }
 ],
 "metadata": {
  "kernelspec": {
   "display_name": "Python 3 (ipykernel)",
   "language": "python",
   "name": "python3"
  },
  "language_info": {
   "codemirror_mode": {
    "name": "ipython",
    "version": 3
   },
   "file_extension": ".py",
   "mimetype": "text/x-python",
   "name": "python",
   "nbconvert_exporter": "python",
   "pygments_lexer": "ipython3",
   "version": "3.12.6"
  }
 },
 "nbformat": 4,
 "nbformat_minor": 5
}
