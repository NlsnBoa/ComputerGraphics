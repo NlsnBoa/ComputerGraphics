{
 "cells": [
  {
   "cell_type": "code",
   "execution_count": 1,
   "id": "ad48eb03-24cd-46d5-8b12-df269eca40ce",
   "metadata": {},
   "outputs": [
    {
     "name": "stdout",
     "output_type": "stream",
     "text": [
      "pygame 2.6.0 (SDL 2.28.4, Python 3.12.6)\n",
      "Hello from the pygame community. https://www.pygame.org/contribute.html\n"
     ]
    }
   ],
   "source": [
    "import pygame\n",
    "import moderngl\n",
    "import numpy as np\n",
    "import glm\n",
    "from LoadObject import getObjectData"
   ]
  },
  {
   "cell_type": "code",
   "execution_count": 2,
   "id": "70cf1625-3cf8-45bd-992a-28f8f384f6b5",
   "metadata": {},
   "outputs": [
    {
     "name": "stderr",
     "output_type": "stream",
     "text": [
      "2024-10-01 18:08:53.794 Python[97975:5261231] WARNING: Secure coding is not enabled for restorable state! Enable secure coding by implementing NSApplicationDelegate.applicationSupportsSecureRestorableState: and returning YES.\n"
     ]
    }
   ],
   "source": [
    "# Initialize Pygame\n",
    "pygame.init()\n",
    "\n",
    "# Set OpenGL version and create an OpenGL context\n",
    "pygame.display.gl_set_attribute(pygame.GL_CONTEXT_PROFILE_MASK, pygame.GL_CONTEXT_PROFILE_CORE)\n",
    "pygame.display.gl_set_attribute(pygame.GL_CONTEXT_MAJOR_VERSION, 4)\n",
    "pygame.display.gl_set_attribute(pygame.GL_CONTEXT_MINOR_VERSION, 1)\n",
    "pygame.display.set_mode((800, 600), pygame.OPENGL | pygame.DOUBLEBUF | pygame.RESIZABLE)\n",
    "\n",
    "# Get the ModernGL context\n",
    "gl = moderngl.create_context()\n",
    "gl.enable(moderngl.DEPTH_TEST)\n",
    "\n",
    "# Dictionary mapping keys 1-6 to corresponding OBJ files\n",
    "obj_files = {\n",
    "    pygame.K_1: \"Teapot.obj\",\n",
    "    pygame.K_2: \"Tetrahedron.obj\",\n",
    "    pygame.K_3: \"Hexahedron.obj\",\n",
    "    pygame.K_4: \"Octahedron.obj\",\n",
    "    pygame.K_5: \"Dodecahedron.obj\",\n",
    "    pygame.K_6: \"Icosahedron.obj\"\n",
    "}\n",
    "\n",
    "# Initialize window size variables\n",
    "window_width, window_height = 800, 600"
   ]
  },
  {
   "cell_type": "code",
   "execution_count": 4,
   "id": "52beabb7-5cfd-4e2e-9625-50e3fd209045",
   "metadata": {},
   "outputs": [],
   "source": [
    "## Vertex Shader\n",
    "vertex_shader_code = '''\n",
    "#version 330 core\n",
    "\n",
    "layout (location = 0) in vec3 in_position;\n",
    "layout (location = 1) in vec3 in_normal;\n",
    "\n",
    "uniform mat4 view;\n",
    "uniform mat4 perspective;\n",
    "\n",
    "out vec3 f_normal;\n",
    "\n",
    "void main() {\n",
    "    f_normal = in_normal;\n",
    "    gl_Position = perspective * view * vec4(in_position, 1.0);\n",
    "}\n",
    "'''"
   ]
  },
  {
   "cell_type": "code",
   "execution_count": 5,
   "id": "9fc74f4e-d4bb-4955-9973-c55e34d7940e",
   "metadata": {},
   "outputs": [],
   "source": [
    "# Fragment Shader\n",
    "fragment_shader_code = '''\n",
    "#version 330 core\n",
    "\n",
    "in vec3 f_normal;\n",
    "out vec4 out_color;\n",
    "\n",
    "void main() {\n",
    "    out_color = vec4(0.5 * (normalize(f_normal) + 1.0), 1.0);\n",
    "}\n",
    "'''"
   ]
  },
  {
   "cell_type": "code",
   "execution_count": 6,
   "id": "9f518b42-7717-4bac-8f41-ecddfa9e841a",
   "metadata": {},
   "outputs": [],
   "source": [
    "\n",
    "# Compile shaders and link them into a program\n",
    "shaderProgram = gl.program(\n",
    "    vertex_shader=vertex_shader_code,\n",
    "    fragment_shader=fragment_shader_code\n",
    ")"
   ]
  },
  {
   "cell_type": "code",
   "execution_count": 7,
   "id": "27932547-b362-443c-8cbe-a6a1b073a399",
   "metadata": {
    "scrolled": true
   },
   "outputs": [
    {
     "name": "stdout",
     "output_type": "stream",
     "text": [
      "Normal exists\n",
      "Normal computed.\n",
      "Normal computed.\n",
      "Normal computed.\n",
      "Normal computed.\n",
      "Normal computed.\n"
     ]
    }
   ],
   "source": [
    "# Load all objects at the start and store them\n",
    "loaded_objects = {}\n",
    "for key, obj_file in obj_files.items():\n",
    "    renderable, modelMatrix, bounds = load_object(obj_file)\n",
    "    loaded_objects[key] = (renderable, modelMatrix, bounds)"
   ]
  },
  {
   "cell_type": "code",
   "execution_count": 8,
   "id": "9ce36816-3ece-442b-bf80-e8f83e484a7a",
   "metadata": {},
   "outputs": [],
   "source": [
    "## Set the initial object (Teapot.obj)\n",
    "current_key = pygame.K_1  # Start with key 1 (Teapot.obj)\n",
    "renderable, modelMatrix, bounds = loaded_objects[current_key]\n",
    "\n",
    "# Pygame window setup\n",
    "pygame.display.set_caption(\"Assignment 5: Nelson Herrera\")\n",
    "\n",
    "# Main loop\n",
    "running = True\n",
    "while running:\n",
    "    for event in pygame.event.get():\n",
    "        if event.type == pygame.QUIT or (\n",
    "            event.type == pygame.KEYDOWN and event.key == pygame.K_ESCAPE\n",
    "        ):\n",
    "            running = False\n",
    "        \n",
    "        # Check if a number key between 1-6 is pressed\n",
    "        if event.type == pygame.KEYDOWN and event.key in obj_files:\n",
    "            current_key = event.key\n",
    "            renderable, modelMatrix, bounds = loaded_objects[current_key]\n",
    "        \n",
    "        # Handle window resize event\n",
    "        if event.type == pygame.VIDEORESIZE:\n",
    "            window_width, window_height = event.w, event.h\n",
    "            pygame.display.set_mode(\n",
    "                (window_width, window_height), \n",
    "                pygame.OPENGL | pygame.DOUBLEBUF | pygame.RESIZABLE\n",
    "            )\n",
    "            gl.viewport = (0, 0, window_width, window_height)\n",
    "\n",
    "    # Clear the screen\n",
    "    gl.clear(0.2, 0.2, 0.2)\n",
    "    \n",
    "    # Compute aspect ratio\n",
    "    aspect_ratio = window_width / window_height\n",
    "\n",
    "    # Compute the time-based rotation angle\n",
    "    angle_in_radian = pygame.time.get_ticks() / 1000.0\n",
    "\n",
    "    # Compute the starting vector (1,1,0) and normalize it\n",
    "    starting_vector = glm.vec3(1, 1, 0)\n",
    "    v = glm.normalize(starting_vector)  # This will be (1/sqrt(2), 1/sqrt(2), 0)\n",
    "\n",
    "    # Rotate v around the Y-axis by the angle_in_radian\n",
    "    rotation_matrix = glm.rotate(glm.mat4(1), angle_in_radian, glm.vec3(0, 1, 0))\n",
    "    rotated_v = glm.vec3(rotation_matrix * glm.vec4(v, 0.0))\n",
    "\n",
    "    # Compute the eye position\n",
    "    eye_position = glm.vec3(bounds.center) + 2 * bounds.radius * rotated_v\n",
    "\n",
    "    # Compute the up vector\n",
    "    up_vector = glm.vec3(0, 1, 0)\n",
    "\n",
    "    # Compute the view matrix\n",
    "    view_matrix = glm.lookAt(eye_position, glm.vec3(bounds.center), up_vector)\n",
    "\n",
    "    # Combine the view matrix with the model matrix\n",
    "    view = view_matrix * modelMatrix  # Note: Multiplication order is important\n",
    "\n",
    "    # Compute the perspective projection matrix\n",
    "    near = 0.1\n",
    "    far = 100\n",
    "    fov = 60  # Field of view in degrees\n",
    "    perspective_matrix = glm.perspective(glm.radians(fov), aspect_ratio, near, far)\n",
    "\n",
    "    # Upload the matrices to the shader\n",
    "    shaderProgram['view'].write(view)\n",
    "    shaderProgram['perspective'].write(perspective_matrix)\n",
    "\n",
    "    # Render the object\n",
    "    renderable.render(moderngl.TRIANGLES)\n",
    "\n",
    "    # Swap buffers\n",
    "    pygame.display.flip()\n",
    "\n",
    "# Cleanup\n",
    "pygame.quit()\n",
    "quit()"
   ]
  }
 ],
 "metadata": {
  "kernelspec": {
   "display_name": "Python 3 (ipykernel)",
   "language": "python",
   "name": "python3"
  },
  "language_info": {
   "codemirror_mode": {
    "name": "ipython",
    "version": 3
   },
   "file_extension": ".py",
   "mimetype": "text/x-python",
   "name": "python",
   "nbconvert_exporter": "python",
   "pygments_lexer": "ipython3",
   "version": "3.12.6"
  }
 },
 "nbformat": 4,
 "nbformat_minor": 5
}
