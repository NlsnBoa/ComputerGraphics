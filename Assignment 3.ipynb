{
 "cells": [
  {
   "cell_type": "markdown",
   "id": "232c9710-2cf1-4985-b8f1-729cf3c54101",
   "metadata": {},
   "source": [
    "# Assignment 3: Nelson Herrera"
   ]
  },
  {
   "cell_type": "code",
   "execution_count": 1,
   "id": "359f386e-f81b-4319-88cb-f0ed349340fd",
   "metadata": {},
   "outputs": [
    {
     "name": "stdout",
     "output_type": "stream",
     "text": [
      "pygame 2.6.0 (SDL 2.28.4, Python 3.12.6)\n",
      "Hello from the pygame community. https://www.pygame.org/contribute.html\n"
     ]
    }
   ],
   "source": [
    "import pygame\n",
    "import moderngl\n",
    "import numpy as np\n",
    "import time"
   ]
  },
  {
   "cell_type": "code",
   "execution_count": 2,
   "id": "dd23f6e9-e628-4107-acb1-fdae06cf19d4",
   "metadata": {},
   "outputs": [
    {
     "name": "stderr",
     "output_type": "stream",
     "text": [
      "2024-09-10 00:01:20.405 Python[5427:101189] WARNING: Secure coding is not enabled for restorable state! Enable secure coding by implementing NSApplicationDelegate.applicationSupportsSecureRestorableState: and returning YES.\n"
     ]
    }
   ],
   "source": [
    "pygame.init()\n",
    "# Set the version of OpenGL. Initialize OpenGL context using Pygame\n",
    "pygame.display.gl_set_attribute(pygame.GL_CONTEXT_PROFILE_MASK, pygame.GL_CONTEXT_PROFILE_CORE)\n",
    "pygame.display.gl_set_attribute(pygame.GL_CONTEXT_MAJOR_VERSION, 4)\n",
    "pygame.display.gl_set_attribute(pygame.GL_CONTEXT_MINOR_VERSION, 1)\n",
    "pygame.display.set_mode((800,600), pygame.OPENGL | pygame.DOUBLEBUF)\n",
    "\n",
    "# Get OpenGL context associated with the window\n",
    "gl = moderngl.get_context()\n",
    "\n"
   ]
  },
  {
   "cell_type": "markdown",
   "id": "90eaa1c7-a285-48e7-a839-7b43be817b60",
   "metadata": {},
   "source": [
    "### Create OpenGL Rendering Contex"
   ]
  },
  {
   "cell_type": "markdown",
   "id": "d11f369f-af90-44a5-81a7-2f13f062df41",
   "metadata": {},
   "source": [
    "### Setting up the rendering pipeline with OpenGL"
   ]
  },
  {
   "cell_type": "code",
   "execution_count": 3,
   "id": "670e8145-eba4-48b5-868a-78414dc6cbac",
   "metadata": {},
   "outputs": [],
   "source": [
    "# Generate t values between -1 and 1 for the full heart shape\n",
    "t_values = np.linspace(-1, 1, 10000)\n",
    "t_values = t_values[t_values != 0]  # Exclude zero to avoid log(0)\n",
    "\n",
    "# Logarithmic heart parametric equations\n",
    "x_values = np.sin(t_values) * np.cos(t_values) * np.log(np.abs(t_values))\n",
    "\n",
    "# Ensure we handle negative cos(t) values by taking the square root of non-negative values\n",
    "cos_t_values = np.cos(t_values)\n",
    "cos_t_values[cos_t_values < 0] = 0  # Replace negative cos(t) with 0 to avoid sqrt of negative numbers\n",
    "\n",
    "# Calculate y values\n",
    "y_values = np.abs(t_values)**0.3 * np.sqrt(cos_t_values) - 0.5\n",
    "\n",
    "# Scale down x_values to make the heart narrower\n",
    "x_values = x_values * 0.8  # Adjust this scaling factor as necessary to control width\n",
    "\n",
    "# Add the center point (0, 0) for the triangle fan\n",
    "center_point = np.array([0.0, 0.0], dtype='float32')\n",
    "\n",
    "# The boundary points are the calculated x, y pairs\n",
    "boundary_points = np.column_stack([x_values, y_values]).astype('float32')\n",
    "\n",
    "# Combine the center with the boundary points\n",
    "all_points = np.vstack([center_point, boundary_points])\n",
    "\n",
    "# Flatten the positions array for OpenGL input\n",
    "positions = all_points.flatten()\n",
    "# Upload Vertex data to GPU\n",
    "vertexBuffer = gl.buffer(positions)"
   ]
  },
  {
   "cell_type": "markdown",
   "id": "a3a455ad-31db-4549-8481-8b5731515eb2",
   "metadata": {},
   "source": [
    "### Create a Shader Programs\n",
    "- Shaders are pieces of code taht run on your GPU. (written in GLSL)\n",
    "- We will be making two. A Vertex Shader and a Fragment Shader\n",
    "#### Vertex Shader:\n",
    "- Allows us to perform basic processing on the vertex attributes\n",
    "    - like transformations, scaling, etc.\n",
    "- Takes a single vertex as input\n",
    "#### Fragment Shader:\n",
    "- Allows us to copmute color (RGBA for each fragment)\n",
    "- Also known as *Pixel Shader*"
   ]
  },
  {
   "cell_type": "code",
   "execution_count": 4,
   "id": "ca9e587f-5c2b-42e9-a5b3-5b93cb63506c",
   "metadata": {},
   "outputs": [],
   "source": [
    "# Vertex Shader\n",
    "vertex_shader_code = '''\n",
    "#version 330 core\n",
    "\n",
    "layout (location = 0) in vec2 position;\n",
    "uniform float scale;\n",
    "void main() {\n",
    "    gl_Position = vec4(position * scale, 0.0, 1.0);\n",
    "}\n",
    "'''"
   ]
  },
  {
   "cell_type": "code",
   "execution_count": 5,
   "id": "3b97e951-e7ed-41c3-b9a8-bffe47bbba34",
   "metadata": {},
   "outputs": [],
   "source": [
    "# Fragment Shader\n",
    "fragment_shader_code = '''\n",
    "# version 330 core \n",
    "\n",
    "out vec4 outColor;\n",
    "\n",
    "void main() {\n",
    "    outColor = vec4(1.0, 0.0, 1.0, 1.0);\n",
    "}\n",
    "'''"
   ]
  },
  {
   "cell_type": "code",
   "execution_count": 6,
   "id": "386f7129-1549-44ee-b0f3-c9a4051de522",
   "metadata": {},
   "outputs": [],
   "source": [
    "# Store them in the main shader program\n",
    "shaderProgram = gl.program(\n",
    "    vertex_shader = vertex_shader_code,\n",
    "    fragment_shader = fragment_shader_code\n",
    ")\n"
   ]
  },
  {
   "cell_type": "markdown",
   "id": "07f288ce-91a9-401b-bfb4-5d6216178f00",
   "metadata": {},
   "source": [
    "### Configure Vertex Attributes\n",
    "- This is the process of connecting the buffer to shader program\n",
    "    - Specify how vertex attributes are stroed in the vertex buffer:\n",
    "        - Vertex buffer is just a raw array, We need to tell the shader program how to interpret that data\n",
    "- We know how our position coordinates are stored in this vertex buffer, but OpenGL doesn't know that"
   ]
  },
  {
   "cell_type": "code",
   "execution_count": 7,
   "id": "590d374d-0f81-4a58-9e0c-0dd2bb199917",
   "metadata": {},
   "outputs": [],
   "source": [
    "renderable = gl.vertex_array(shaderProgram, [(vertexBuffer, '2f', 'position')])\n",
    "\n"
   ]
  },
  {
   "cell_type": "code",
   "execution_count": 8,
   "id": "264e1dc7-27ba-47c3-898e-1290c87c950a",
   "metadata": {},
   "outputs": [],
   "source": [
    "pygame.display.set_caption(\"Assignment 3: Nelson Herrera\")\n",
    "clock = pygame.time.Clock()  # Create a clock object\n",
    "\n",
    "running = True\n",
    "\n",
    "# Set up zoom variables\n",
    "zoomFactor = 1.0\n",
    "deltaZoom = 0.025\n",
    "zoomingOut = True  # We will toggle this to control zooming in and out\n",
    "\n",
    "while running:\n",
    "    clock.tick(60)  # limits FPS to 30\n",
    "    for event in pygame.event.get():\n",
    "        if event.type == pygame.QUIT or (event.type == pygame.KEYDOWN and event.key == 27):\n",
    "            running = False\n",
    "            \n",
    "     # Update zoom factor\n",
    "    if zoomingOut:\n",
    "        zoomFactor -= deltaZoom\n",
    "        if zoomFactor <= 1 / 5:  # Start zooming in when zooming out reaches limit\n",
    "            zoomingOut = False\n",
    "    else:\n",
    "        zoomFactor += deltaZoom\n",
    "        if zoomFactor >= 5:  # Start zooming out when zooming in reaches limit\n",
    "            zoomingOut = True\n",
    "\n",
    "    # Set uniform value for zoom factor\n",
    "    shaderProgram['scale'] = zoomFactor\n",
    "\n",
    "    # Clear screen\n",
    "    gl.clear(0.2, 0.2, 0.2)\n",
    "\n",
    "    # Render the heart shape\n",
    "    renderable.render(moderngl.TRIANGLE_FAN)\n",
    "\n",
    "    # Swap buffers\n",
    "    pygame.display.flip()\n",
    "\n",
    "pygame.quit()  # quit after the loop ends\n",
    "quit() # Needed this to quit the process on my Mac without jupyter notebook freezing"
   ]
  }
 ],
 "metadata": {
  "kernelspec": {
   "display_name": "Python 3 (ipykernel)",
   "language": "python",
   "name": "python3"
  },
  "language_info": {
   "codemirror_mode": {
    "name": "ipython",
    "version": 3
   },
   "file_extension": ".py",
   "mimetype": "text/x-python",
   "name": "python",
   "nbconvert_exporter": "python",
   "pygments_lexer": "ipython3",
   "version": "3.12.6"
  }
 },
 "nbformat": 4,
 "nbformat_minor": 5
}
