{
 "cells": [
  {
   "cell_type": "code",
   "execution_count": 1,
   "id": "ad48eb03-24cd-46d5-8b12-df269eca40ce",
   "metadata": {},
   "outputs": [
    {
     "name": "stdout",
     "output_type": "stream",
     "text": [
      "pygame 2.6.0 (SDL 2.28.4, Python 3.12.6)\n",
      "Hello from the pygame community. https://www.pygame.org/contribute.html\n"
     ]
    }
   ],
   "source": [
    "import pygame\n",
    "import moderngl\n",
    "import numpy as np\n",
    "import glm\n",
    "from LoadObject import getObjectData\n",
    "from Assignment6Specs import scaleFactors, angles, tVectors"
   ]
  },
  {
   "cell_type": "code",
   "execution_count": 2,
   "id": "70cf1625-3cf8-45bd-992a-28f8f384f6b5",
   "metadata": {},
   "outputs": [
    {
     "name": "stderr",
     "output_type": "stream",
     "text": [
      "2024-10-02 13:36:34.123 Python[16606:5770739] WARNING: Secure coding is not enabled for restorable state! Enable secure coding by implementing NSApplicationDelegate.applicationSupportsSecureRestorableState: and returning YES.\n"
     ]
    }
   ],
   "source": [
    "# Initialize Pygame\n",
    "pygame.init()\n",
    "\n",
    "# Set OpenGL version and create an OpenGL context\n",
    "pygame.display.gl_set_attribute(pygame.GL_CONTEXT_PROFILE_MASK, pygame.GL_CONTEXT_PROFILE_CORE)\n",
    "pygame.display.gl_set_attribute(pygame.GL_CONTEXT_MAJOR_VERSION, 4)\n",
    "pygame.display.gl_set_attribute(pygame.GL_CONTEXT_MINOR_VERSION, 1)\n",
    "pygame.display.set_mode((800, 600), pygame.OPENGL | pygame.DOUBLEBUF | pygame.RESIZABLE)\n",
    "\n",
    "# Get the ModernGL context\n",
    "gl = moderngl.create_context()\n",
    "gl.enable(moderngl.DEPTH_TEST)\n",
    "\n",
    "# Initialize window size variables\n",
    "window_width, window_height = 800, 600\n"
   ]
  },
  {
   "cell_type": "code",
   "execution_count": 3,
   "id": "52beabb7-5cfd-4e2e-9625-50e3fd209045",
   "metadata": {},
   "outputs": [],
   "source": [
    "# Shader programs\n",
    "vertex_shader_code = '''\n",
    "#version 330 core\n",
    "\n",
    "layout (location = 0) in vec3 in_position;\n",
    "layout (location = 1) in vec3 in_normal;\n",
    "\n",
    "uniform mat4 view;\n",
    "uniform mat4 perspective;\n",
    "\n",
    "in mat4 in_modelMat;  // Instance model matrix\n",
    "out vec3 f_normal;\n",
    "\n",
    "void main() {\n",
    "    f_normal = in_normal;\n",
    "    gl_Position = perspective * view * in_modelMat * vec4(in_position, 1.0);\n",
    "}\n",
    "'''"
   ]
  },
  {
   "cell_type": "code",
   "execution_count": 4,
   "id": "9fc74f4e-d4bb-4955-9973-c55e34d7940e",
   "metadata": {},
   "outputs": [],
   "source": [
    "fragment_shader_code = '''\n",
    "#version 330 core\n",
    "\n",
    "in vec3 f_normal;\n",
    "out vec4 out_color;\n",
    "\n",
    "void main() {\n",
    "    out_color = vec4(0.5 * (normalize(f_normal) + 1.0), 1.0);\n",
    "}\n",
    "'''"
   ]
  },
  {
   "cell_type": "code",
   "execution_count": 5,
   "id": "9f518b42-7717-4bac-8f41-ecddfa9e841a",
   "metadata": {},
   "outputs": [],
   "source": [
    "# Compile shaders and link them into a program\n",
    "shaderProgram = gl.program(\n",
    "    vertex_shader=vertex_shader_code,\n",
    "    fragment_shader=fragment_shader_code\n",
    ")"
   ]
  },
  {
   "cell_type": "code",
   "execution_count": 6,
   "id": "761a1f21-d1de-4dfc-8504-8331dbd9bbe4",
   "metadata": {},
   "outputs": [],
   "source": [
    "# Function to load object data and create vertex buffer\n",
    "def load_object(obj_file):\n",
    "    vertexData, bounds = getObjectData(obj_file, normal=True)\n",
    "    vertexBuffer = gl.buffer(vertexData.astype('f4').tobytes())\n",
    "    return vertexBuffer, bounds"
   ]
  },
  {
   "cell_type": "code",
   "execution_count": 7,
   "id": "27932547-b362-443c-8cbe-a6a1b073a399",
   "metadata": {},
   "outputs": [
    {
     "name": "stdout",
     "output_type": "stream",
     "text": [
      "Normal computed.\n",
      "Normal exists\n"
     ]
    }
   ],
   "source": [
    "# Load the cube (floor) and teapot object\n",
    "cube_vertex_buffer, cube_bounds = load_object(\"Hexahedron.obj\")\n",
    "teapot_vertex_buffer, teapot_bounds = load_object(\"Teapot.obj\")"
   ]
  },
  {
   "cell_type": "code",
   "execution_count": 8,
   "id": "d4a15312-027e-4aa3-b144-e369f59d0df1",
   "metadata": {},
   "outputs": [],
   "source": [
    "# Prepare the rectangular floor by scaling and translating the cube\n",
    "floor_model_matrix = glm.translate(glm.mat4(1), glm.vec3(0, -1, 0)) * glm.scale(glm.mat4(1), glm.vec3(10, 0.05, 10))\n",
    "floor_matrix_buffer = gl.buffer(np.array(list(floor_model_matrix)).astype('float32').tobytes())\n",
    "\n",
    "# Prepare the teapot model matrices for 100 instances\n",
    "teapot_matrices = []\n",
    "for i in range(100):\n",
    "    scale_matrix = glm.scale(glm.mat4(1), glm.vec3(scaleFactors[i]))\n",
    "    rotate_matrix = glm.rotate(glm.mat4(1), glm.radians(angles[i]), glm.vec3(0, 1, 0))\n",
    "\n",
    "    # Adjust the Y-axis translation so teapots sit on top of the cube\n",
    "    adjusted_tVector = glm.vec3(tVectors[i])\n",
    "\n",
    "    # Approximate teapot height using bounds.radius\n",
    "    teapot_height = teapot_bounds.radius * 2.0  # Assuming radius is half the height of the teapot\n",
    "    adjusted_tVector.y -= 0.95 # Remove the space between the teapots and the cube\n",
    "\n",
    "    translate_matrix = glm.translate(glm.mat4(1), adjusted_tVector)\n",
    "    model_matrix = translate_matrix * rotate_matrix * scale_matrix\n",
    "    teapot_matrices.append(list(model_matrix))\n",
    "\n",
    "# Create buffer for the teapot model matrices\n",
    "teapot_transformation_buffer = gl.buffer(np.array(teapot_matrices).astype('float32').tobytes())"
   ]
  },
  {
   "cell_type": "code",
   "execution_count": 9,
   "id": "9ce36816-3ece-442b-bf80-e8f83e484a7a",
   "metadata": {},
   "outputs": [],
   "source": [
    "# Pygame window setup\n",
    "pygame.display.set_caption(\"Assignment 6: Nelson Herrera\")\n",
    "\n",
    "# Create the teapot renderable with instanced model matrix attribute\n",
    "teapot_renderable = gl.vertex_array(\n",
    "    shaderProgram,\n",
    "    [\n",
    "        (teapot_vertex_buffer, '3f 3f /v', 'in_position', 'in_normal'),\n",
    "        (teapot_transformation_buffer, '16f /i', 'in_modelMat')\n",
    "    ]\n",
    ")\n",
    "\n",
    "# Create the cube (floor) renderable\n",
    "floor_renderable = gl.vertex_array(\n",
    "    shaderProgram,\n",
    "    [\n",
    "        (cube_vertex_buffer, '3f 3f /v', 'in_position', 'in_normal'),\n",
    "        (floor_matrix_buffer, '16f /i', 'in_modelMat')\n",
    "    ]\n",
    ")\n",
    "\n",
    "# Set the camera parameters\n",
    "camera_position = glm.vec3(20, 10, 0)\n",
    "camera_target = glm.vec3(0, 0, 0)\n",
    "camera_up = glm.vec3(0, 1, 0)\n",
    "\n",
    "# Main loop\n",
    "running = True\n",
    "while running:\n",
    "    for event in pygame.event.get():\n",
    "        if event.type == pygame.QUIT or (event.type == pygame.KEYDOWN and event.key == pygame.K_ESCAPE):\n",
    "            running = False\n",
    "        \n",
    "        # Handle window resize event\n",
    "        if event.type == pygame.VIDEORESIZE:\n",
    "            window_width, window_height = event.w, event.h\n",
    "            pygame.display.set_mode((window_width, window_height), pygame.OPENGL | pygame.DOUBLEBUF | pygame.RESIZABLE)\n",
    "            gl.viewport = (0, 0, window_width, window_height)\n",
    "\n",
    "    # Clear the screen\n",
    "    gl.clear(0.2, 0.2, 0.2)\n",
    "    \n",
    "    # Compute aspect ratio\n",
    "    aspect_ratio = window_width / window_height\n",
    "\n",
    "    # Update the orbiting camera\n",
    "    angle_in_radian = pygame.time.get_ticks() / 2000.0\n",
    "    rotation_matrix = glm.rotate(glm.mat4(1), angle_in_radian, glm.vec3(0, 1, 0))\n",
    "    rotated_camera_position = glm.vec3(rotation_matrix * glm.vec4(camera_position, 1.0))\n",
    "    view_matrix = glm.lookAt(rotated_camera_position, camera_target, camera_up)\n",
    "    \n",
    "    # Compute the perspective projection matrix\n",
    "    near, far, fov = 0.1, 100, 60\n",
    "    perspective_matrix = glm.perspective(glm.radians(fov), aspect_ratio, near, far)\n",
    "\n",
    "    # Upload matrices to the shader\n",
    "    shaderProgram['view'].write(view_matrix)\n",
    "    shaderProgram['perspective'].write(perspective_matrix)\n",
    "\n",
    "    # Render the floor (cube)\n",
    "    floor_renderable.render(moderngl.TRIANGLES)\n",
    "\n",
    "    # Render 100 teapots in one call, passing the number of instances\n",
    "    teapot_renderable.render(moderngl.TRIANGLES, instances=100)\n",
    "\n",
    "    # Swap buffers\n",
    "    pygame.display.flip()\n",
    "\n",
    "# Cleanup\n",
    "pygame.quit()\n",
    "quit()"
   ]
  }
 ],
 "metadata": {
  "kernelspec": {
   "display_name": "Python 3 (ipykernel)",
   "language": "python",
   "name": "python3"
  },
  "language_info": {
   "codemirror_mode": {
    "name": "ipython",
    "version": 3
   },
   "file_extension": ".py",
   "mimetype": "text/x-python",
   "name": "python",
   "nbconvert_exporter": "python",
   "pygments_lexer": "ipython3",
   "version": "3.12.6"
  }
 },
 "nbformat": 4,
 "nbformat_minor": 5
}
