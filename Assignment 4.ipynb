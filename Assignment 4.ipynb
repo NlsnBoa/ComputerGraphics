{
 "cells": [
  {
   "cell_type": "markdown",
   "id": "75511324-6df3-4993-a73e-d0d53da3f762",
   "metadata": {},
   "source": [
    "# Assignment 4: Nelson Herrera"
   ]
  },
  {
   "cell_type": "code",
   "execution_count": 1,
   "id": "cc1ca7e3-ed78-4fd2-8ce6-68ecfae01320",
   "metadata": {},
   "outputs": [
    {
     "name": "stdout",
     "output_type": "stream",
     "text": [
      "pygame 2.6.0 (SDL 2.28.4, Python 3.12.6)\n",
      "Hello from the pygame community. https://www.pygame.org/contribute.html\n"
     ]
    }
   ],
   "source": [
    "import pygame\n",
    "import moderngl\n",
    "import numpy as np\n",
    "import time\n",
    "import glm\n",
    "from LoadObject import getObjectData"
   ]
  },
  {
   "cell_type": "code",
   "execution_count": 2,
   "id": "ee2ab46b-409a-48be-92e3-702c0ae20843",
   "metadata": {
    "scrolled": true
   },
   "outputs": [
    {
     "name": "stderr",
     "output_type": "stream",
     "text": [
      "2024-09-23 22:37:52.925 Python[69606:1751598] WARNING: Secure coding is not enabled for restorable state! Enable secure coding by implementing NSApplicationDelegate.applicationSupportsSecureRestorableState: and returning YES.\n"
     ]
    }
   ],
   "source": [
    "pygame.init()\n",
    "# Set the version of OpenGL. Initialize OpenGL context using Pygame\n",
    "pygame.display.gl_set_attribute(pygame.GL_CONTEXT_PROFILE_MASK, pygame.GL_CONTEXT_PROFILE_CORE)\n",
    "pygame.display.gl_set_attribute(pygame.GL_CONTEXT_MAJOR_VERSION, 4)\n",
    "pygame.display.gl_set_attribute(pygame.GL_CONTEXT_MINOR_VERSION, 1)\n",
    "pygame.display.set_mode((800,600), pygame.OPENGL | pygame.DOUBLEBUF)\n",
    "\n",
    "# Get OpenGL context associated with the window\n",
    "gl = moderngl.get_context()\n",
    "gl.enable(gl.DEPTH_TEST)"
   ]
  },
  {
   "cell_type": "markdown",
   "id": "f5eb71cb-90cb-42f0-b00f-ddb0aeab1d36",
   "metadata": {},
   "source": [
    "## Import the object files and upload them to the GPU"
   ]
  },
  {
   "cell_type": "code",
   "execution_count": 3,
   "id": "ae83eb1b-d9f5-4611-88ee-fbeb28945b21",
   "metadata": {},
   "outputs": [
    {
     "name": "stdout",
     "output_type": "stream",
     "text": [
      "Normal exists\n",
      "vertexData: [ 0.605903  0.005903 -0.       ...  0.801569 -0.558184 -0.214148]\n",
      "\n",
      "\n",
      "bounds:  boundingBox:[array([-3.,  0., -2.]), array([3.42963, 3.15   , 2.     ])], enter: [0.214815 1.575    0.      ], Radius: 4.100690244852078.\n",
      "bound center: [0.214815 1.575    0.      ]\n"
     ]
    }
   ],
   "source": [
    "\n",
    "vertexData, bounds = getObjectData(\"Teapot.obj\", normal=True)\n",
    "\n",
    "print(\"vertexData:\", vertexData)\n",
    "print(\"\\n\")\n",
    "print(\"bounds: \", bounds)\n",
    "print(\"bound center:\", bounds.center)\n",
    "\n",
    "# # Upload Vertex data to GPU\n",
    "vertexBuffer = gl.buffer(vertexData)"
   ]
  },
  {
   "cell_type": "code",
   "execution_count": 4,
   "id": "013fa5a1-d2df-495f-b07d-7c2da0ac202b",
   "metadata": {},
   "outputs": [],
   "source": [
    "translateMatrix = glm.translate(glm.mat4(1), -glm.vec3(bounds.center))\n",
    "scaleMatrix = glm.scale(glm.mat4(1), glm.vec3(1.0 / bounds.radius))  # Normalize based on the object's size\n",
    "modelMatrix = scaleMatrix * translateMatrix"
   ]
  },
  {
   "cell_type": "code",
   "execution_count": 5,
   "id": "c2edd7d3-97ec-404e-9744-281811eb4df0",
   "metadata": {},
   "outputs": [],
   "source": [
    "# Vertex Shader\n",
    "vertex_shader_code = '''\n",
    "#version 330 core\n",
    "\n",
    "layout (location = 0) in vec4 in_position;\n",
    "layout (location = 1) in vec3 in_normal;\n",
    "uniform mat4 modelMatrix;\n",
    "\n",
    "out vec3 f_normal;\n",
    "\n",
    "void main() {\n",
    "    f_normal = in_normal;\n",
    "    gl_Position = modelMatrix*in_position;\n",
    "}\n",
    "'''"
   ]
  },
  {
   "cell_type": "code",
   "execution_count": 6,
   "id": "f2a75717-766c-4bba-9204-3edcdf2f1556",
   "metadata": {},
   "outputs": [],
   "source": [
    "# Fragment Shader\n",
    "fragment_shader_code = '''\n",
    "# version 330 core \n",
    "\n",
    "in vec3 f_normal;\n",
    "\n",
    "layout (location = 0) out vec4 out_color;\n",
    "\n",
    "void main() {\n",
    "    out_color = vec4(0.5*(normalize(f_normal) + 1.0), 1.0);\n",
    "}\n",
    "'''"
   ]
  },
  {
   "cell_type": "code",
   "execution_count": 7,
   "id": "1d6aa58d-b0e2-40ea-8050-e1f5c105f378",
   "metadata": {},
   "outputs": [],
   "source": [
    "# Store them in the main shader program\n",
    "shaderProgram = gl.program(\n",
    "    vertex_shader = vertex_shader_code,\n",
    "    fragment_shader = fragment_shader_code\n",
    ")\n",
    "\n",
    "shaderProgram['modelMatrix'].write(modelMatrix)\n"
   ]
  },
  {
   "cell_type": "code",
   "execution_count": 8,
   "id": "432ad09c-7d2a-4261-9f12-03c1b75e90ea",
   "metadata": {},
   "outputs": [],
   "source": [
    "renderable = gl.vertex_array(shaderProgram, [(vertexBuffer, '3f 3f', 'in_position', 'in_normal')])\n"
   ]
  },
  {
   "cell_type": "code",
   "execution_count": 9,
   "id": "50754849-be22-45b9-b4de-195472dc7ed8",
   "metadata": {},
   "outputs": [],
   "source": [
    "pygame.display.set_caption(\"Assignment 4: Nelson Herrera\")\n",
    "\n",
    "running = True\n",
    "\n",
    "while running:\n",
    "    for event in pygame.event.get():\n",
    "        if event.type == pygame.QUIT or (event.type == pygame.KEYDOWN and event.key == 27):\n",
    "            running = False\n",
    "    gl.clear(0.2,0.2,0.2)\n",
    "    renderable.render()\n",
    "    pygame.display.flip()\n",
    "\n",
    "pygame.quit()  # quit after the loop ends\n",
    "quit() # Needed this to quit the process on my Mac without jupyter notebook freezing"
   ]
  }
 ],
 "metadata": {
  "kernelspec": {
   "display_name": "Python 3 (ipykernel)",
   "language": "python",
   "name": "python3"
  },
  "language_info": {
   "codemirror_mode": {
    "name": "ipython",
    "version": 3
   },
   "file_extension": ".py",
   "mimetype": "text/x-python",
   "name": "python",
   "nbconvert_exporter": "python",
   "pygments_lexer": "ipython3",
   "version": "3.12.6"
  }
 },
 "nbformat": 4,
 "nbformat_minor": 5
}
