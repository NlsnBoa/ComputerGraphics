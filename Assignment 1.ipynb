{
 "cells": [
  {
   "cell_type": "markdown",
   "id": "07f9f9fb-98c9-435d-9be8-40327b92281a",
   "metadata": {
    "editable": true,
    "slideshow": {
     "slide_type": ""
    },
    "tags": []
   },
   "source": [
    "# Assignment 1: Nelson Herrera"
   ]
  },
  {
   "cell_type": "code",
   "execution_count": 1,
   "id": "0941490d-76f8-48b5-bceb-394da8061887",
   "metadata": {},
   "outputs": [
    {
     "name": "stdout",
     "output_type": "stream",
     "text": [
      "pygame 2.6.0 (SDL 2.28.4, Python 3.12.2)\n",
      "Hello from the pygame community. https://www.pygame.org/contribute.html\n"
     ]
    }
   ],
   "source": [
    "import pygame"
   ]
  },
  {
   "cell_type": "code",
   "execution_count": null,
   "id": "673aeba1-4b7f-4f4f-a770-8d13827a6554",
   "metadata": {},
   "outputs": [
    {
     "name": "stderr",
     "output_type": "stream",
     "text": [
      "2024-08-21 13:29:44.148 Python[18514:23812016] WARNING: Secure coding is not enabled for restorable state! Enable secure coding by implementing NSApplicationDelegate.applicationSupportsSecureRestorableState: and returning YES.\n"
     ]
    }
   ],
   "source": [
    "import random\n",
    "\n",
    "pygame.init()\n",
    "display = pygame.display.set_mode((800, 600))\n",
    "pygame.display.set_caption(\"Assignment 1: Nelson Herrera\")\n",
    "clock = pygame.time.Clock()  # Create a clock object\n",
    "running = True\n",
    "\n",
    "# Initial color\n",
    "color = (255, 255, 255)\n",
    "\n",
    "# Frame counter\n",
    "frame_count = 0\n",
    "\n",
    "while running:\n",
    "    clock.tick(30)  # limits FPS to 30\n",
    "    frame_count += 1  # Increment the frame counter\n",
    "\n",
    "    # Change color every 30 frames\n",
    "    if frame_count == 30:\n",
    "        color = (random.randint(0, 255), random.randint(0, 255), random.randint(0, 255))\n",
    "        frame_count = 0  # Reset the frame counter\n",
    "\n",
    "    for event in pygame.event.get():  # poll for events\n",
    "        if event.type == pygame.QUIT or (event.type == pygame.KEYDOWN and event.key == pygame.K_ESCAPE):\n",
    "            running = False\n",
    "\n",
    "    display.fill(color)  # Fill with the current color\n",
    "    pygame.display.flip()\n",
    "\n",
    "pygame.quit()  # quit after the loop ends\n",
    "quit() # Needed this to quit process on my Mac without jupyter notebook freezing"
   ]
  },
  {
   "cell_type": "code",
   "execution_count": null,
   "id": "06b36d5d-f191-490c-a332-e4e45bbdf757",
   "metadata": {},
   "outputs": [],
   "source": []
  }
 ],
 "metadata": {
  "kernelspec": {
   "display_name": "Python 3 (ipykernel)",
   "language": "python",
   "name": "python3"
  },
  "language_info": {
   "codemirror_mode": {
    "name": "ipython",
    "version": 3
   },
   "file_extension": ".py",
   "mimetype": "text/x-python",
   "name": "python",
   "nbconvert_exporter": "python",
   "pygments_lexer": "ipython3",
   "version": "3.12.6"
  }
 },
 "nbformat": 4,
 "nbformat_minor": 5
}
