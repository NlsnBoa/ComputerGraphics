{
 "cells": [
  {
   "cell_type": "code",
   "execution_count": 1,
   "id": "ad48eb03-24cd-46d5-8b12-df269eca40ce",
   "metadata": {},
   "outputs": [
    {
     "name": "stdout",
     "output_type": "stream",
     "text": [
      "pygame 2.6.0 (SDL 2.28.4, Python 3.12.6)\n",
      "Hello from the pygame community. https://www.pygame.org/contribute.html\n"
     ]
    }
   ],
   "source": [
    "import pygame\n",
    "import moderngl\n",
    "import numpy as np\n",
    "import glm\n",
    "from LoadObject import getObjectData"
   ]
  },
  {
   "cell_type": "code",
   "execution_count": 2,
   "id": "70cf1625-3cf8-45bd-992a-28f8f384f6b5",
   "metadata": {},
   "outputs": [
    {
     "name": "stderr",
     "output_type": "stream",
     "text": [
      "2024-09-24 00:09:51.508 Python[5148:1903539] WARNING: Secure coding is not enabled for restorable state! Enable secure coding by implementing NSApplicationDelegate.applicationSupportsSecureRestorableState: and returning YES.\n"
     ]
    }
   ],
   "source": [
    "# Initialize Pygame\n",
    "pygame.init()\n",
    "\n",
    "# Set OpenGL version and create an OpenGL context\n",
    "pygame.display.gl_set_attribute(pygame.GL_CONTEXT_PROFILE_MASK, pygame.GL_CONTEXT_PROFILE_CORE)\n",
    "pygame.display.gl_set_attribute(pygame.GL_CONTEXT_MAJOR_VERSION, 4)\n",
    "pygame.display.gl_set_attribute(pygame.GL_CONTEXT_MINOR_VERSION, 1)\n",
    "pygame.display.set_mode((800, 600), pygame.OPENGL | pygame.DOUBLEBUF | pygame.RESIZABLE)\n",
    "\n",
    "# Get the ModernGL context\n",
    "gl = moderngl.create_context()\n",
    "gl.enable(moderngl.DEPTH_TEST)\n",
    "\n",
    "# Dictionary mapping keys 1-6 to corresponding OBJ files\n",
    "obj_files = {\n",
    "    pygame.K_1: \"Teapot.obj\",\n",
    "    pygame.K_2: \"Tetrahedron.obj\",\n",
    "    pygame.K_3: \"Hexahedron.obj\",\n",
    "    pygame.K_4: \"Octahedron.obj\",\n",
    "    pygame.K_5: \"Dodecahedron.obj\",\n",
    "    pygame.K_6: \"Icosahedron.obj\"\n",
    "}"
   ]
  },
  {
   "cell_type": "code",
   "execution_count": 3,
   "id": "f98012fa-ead0-47ad-b7a0-fc6c005de7d5",
   "metadata": {},
   "outputs": [],
   "source": [
    "# Function to load an object and return its VAO and transformation matrix\n",
    "def load_object(obj_file):\n",
    "    vertexData, bounds = getObjectData(obj_file, normal=True)\n",
    "    \n",
    "    # Create new buffer with the object vertex data\n",
    "    vertexBuffer = gl.buffer(vertexData.astype('f4').tobytes())\n",
    "    \n",
    "    # Create a new vertex array object (VAO)\n",
    "    renderable = gl.vertex_array(\n",
    "        shaderProgram, \n",
    "        [(vertexBuffer, '3f 3f', 'in_position', 'in_normal')]\n",
    "    )\n",
    "    \n",
    "    return renderable, bounds"
   ]
  },
  {
   "cell_type": "code",
   "execution_count": 4,
   "id": "96390bb6-3e81-4a53-b84c-e91e7d383580",
   "metadata": {},
   "outputs": [],
   "source": [
    "# Vertex Shader\n",
    "vertex_shader_code = '''\n",
    "#version 330 core\n",
    "\n",
    "layout (location = 0) in vec3 in_position;\n",
    "layout (location = 1) in vec3 in_normal;\n",
    "\n",
    "uniform mat4 view;\n",
    "uniform mat4 perspective;\n",
    "\n",
    "out vec3 f_normal;\n",
    "\n",
    "void main() {\n",
    "    f_normal = in_normal;\n",
    "    gl_Position = perspective * view * vec4(in_position, 1.0);\n",
    "}\n",
    "'''"
   ]
  },
  {
   "cell_type": "code",
   "execution_count": 5,
   "id": "9fc74f4e-d4bb-4955-9973-c55e34d7940e",
   "metadata": {},
   "outputs": [],
   "source": [
    "# Fragment Shader\n",
    "fragment_shader_code = '''\n",
    "#version 330 core\n",
    "\n",
    "in vec3 f_normal;\n",
    "out vec4 out_color;\n",
    "\n",
    "void main() {\n",
    "    out_color = vec4(0.5 * (normalize(f_normal) + 1.0), 1.0);\n",
    "}\n",
    "'''"
   ]
  },
  {
   "cell_type": "code",
   "execution_count": 6,
   "id": "9f518b42-7717-4bac-8f41-ecddfa9e841a",
   "metadata": {},
   "outputs": [],
   "source": [
    "# Compile shaders and link them into a program\n",
    "shaderProgram = gl.program(\n",
    "    vertex_shader=vertex_shader_code,\n",
    "    fragment_shader=fragment_shader_code\n",
    ")"
   ]
  },
  {
   "cell_type": "code",
   "execution_count": 7,
   "id": "27932547-b362-443c-8cbe-a6a1b073a399",
   "metadata": {},
   "outputs": [
    {
     "name": "stdout",
     "output_type": "stream",
     "text": [
      "Normal exists\n",
      "Normal computed.\n",
      "Normal computed.\n",
      "Normal computed.\n",
      "Normal computed.\n",
      "Normal computed.\n"
     ]
    }
   ],
   "source": [
    "# Load all objects at the start and store them\n",
    "loaded_objects = {}\n",
    "for key, obj_file in obj_files.items():\n",
    "    renderable, bounds = load_object(obj_file)\n",
    "    loaded_objects[key] = (renderable, bounds)"
   ]
  },
  {
   "cell_type": "code",
   "execution_count": 8,
   "id": "b98dea0b-eb2c-4d46-b0b8-da24d9d6a9bb",
   "metadata": {},
   "outputs": [],
   "source": [
    "# Set the initial object (Teapot.obj)\n",
    "current_key = pygame.K_1  # Start with key 1 (Teapot.obj)\n",
    "renderable, bounds = loaded_objects[current_key]\n",
    "\n",
    "# Pygame window setup\n",
    "pygame.display.set_caption(\"Assignment 5: Nelson Herrera\")\n",
    "\n",
    "# Camera setup\n",
    "def compute_camera_position(angle, radius):\n",
    "    # Compute unit vector that makes a 45-degree angle to Y-axis in the XY-plane\n",
    "    x = np.cos(angle) * np.sqrt(2) / 2\n",
    "    y = np.sqrt(2) / 2\n",
    "    z = np.sin(angle) * np.sqrt(2) / 2\n",
    "    \n",
    "    # Return the eye position based on radius distance away from the object's center\n",
    "    return glm.vec3(x, y, z) * radius * 2\n",
    "\n",
    "# Main loop\n",
    "running = True\n",
    "while running:\n",
    "    for event in pygame.event.get():\n",
    "        if event.type == pygame.QUIT or (event.type == pygame.KEYDOWN and event.key == pygame.K_ESCAPE):\n",
    "            running = False\n",
    "        \n",
    "        # Check if a number key between 1-6 is pressed\n",
    "        if event.type == pygame.KEYDOWN and event.key in obj_files:\n",
    "            current_key = event.key\n",
    "            renderable, bounds = loaded_objects[current_key]\n",
    "\n",
    "        # Handle window resize\n",
    "        if event.type == pygame.WINDOWRESIZED:\n",
    "            width, height = event.x, event.y\n",
    "            gl.viewport = (0, 0, width, height)\n",
    "    \n",
    "    # Get the elapsed time for orbiting\n",
    "    time_in_seconds = pygame.time.get_ticks() / 1000.0\n",
    "    \n",
    "    # Compute the perspective matrix\n",
    "    aspect_ratio = 800 / 600  # Width/height of your window (default values)\n",
    "    fov = 60\n",
    "    near_plane =  0.1  # Near distance\n",
    "    far_plane = 100 # Far distance\n",
    "    perspective_matrix = glm.perspective(glm.radians(fov), aspect_ratio, near_plane, far_plane)\n",
    "    eye_point = glm.vec3(1,1,0)\n",
    "    normalized_eye_point = glm.normalize(eye_point) + glm.vec3(bounds.center)\n",
    "\n",
    "    view_matrix = glm.lookAt(normalized_eye_point * bounds.radius, glm.vec3(bounds.center), glm.vec3(0,1,0))\n",
    "    \n",
    "    # # Upload the view and perspective matrices to the shader\n",
    "    shaderProgram['view'].write(view_matrix)\n",
    "    shaderProgram['perspective'].write(perspective_matrix)\n",
    "\n",
    "    #   # Upload the matrices to the shader\n",
    "    # shaderProgram['view'].write(np.array(view_matrix, dtype='f4').tobytes())\n",
    "    # shaderProgram['perspective'].write(np.array(perspective_matrix, dtype='f4').tobytes())\n",
    "\n",
    "\n",
    "    # Clear the screen\n",
    "    gl.clear(0.2, 0.2, 0.2)\n",
    "\n",
    "    # Render the object\n",
    "    renderable.render(moderngl.TRIANGLES)\n",
    "\n",
    "    # Swap buffers\n",
    "    pygame.display.flip()\n",
    "\n",
    "# Cleanup\n",
    "pygame.quit()\n",
    "quit()"
   ]
  }
 ],
 "metadata": {
  "kernelspec": {
   "display_name": "Python 3 (ipykernel)",
   "language": "python",
   "name": "python3"
  },
  "language_info": {
   "codemirror_mode": {
    "name": "ipython",
    "version": 3
   },
   "file_extension": ".py",
   "mimetype": "text/x-python",
   "name": "python",
   "nbconvert_exporter": "python",
   "pygments_lexer": "ipython3",
   "version": "3.12.6"
  }
 },
 "nbformat": 4,
 "nbformat_minor": 5
}
